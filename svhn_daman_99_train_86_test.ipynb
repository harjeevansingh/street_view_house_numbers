{
  "nbformat": 4,
  "nbformat_minor": 0,
  "metadata": {
    "colab": {
      "name": "svhn daman 99 train 86 test.ipynb",
      "provenance": [],
      "collapsed_sections": []
    },
    "kernelspec": {
      "display_name": "Python 3",
      "language": "python",
      "name": "python3"
    },
    "language_info": {
      "codemirror_mode": {
        "name": "ipython",
        "version": 3
      },
      "file_extension": ".py",
      "mimetype": "text/x-python",
      "name": "python",
      "nbconvert_exporter": "python",
      "pygments_lexer": "ipython3",
      "version": "3.6.8"
    }
  },
  "cells": [
    {
      "cell_type": "code",
      "metadata": {
        "colab_type": "code",
        "id": "gRDMDgkCaATV",
        "colab": {
          "base_uri": "https://localhost:8080/",
          "height": 129
        },
        "outputId": "9268ae94-c718-40c2-a13a-e6b57650db8d"
      },
      "source": [
        "from google.colab import drive\n",
        "drive.mount('/content/drive')"
      ],
      "execution_count": 1,
      "outputs": [
        {
          "output_type": "stream",
          "text": [
            "Go to this URL in a browser: https://accounts.google.com/o/oauth2/auth?client_id=947318989803-6bn6qk8qdgf4n4g3pfee6491hc0brc4i.apps.googleusercontent.com&redirect_uri=urn%3aietf%3awg%3aoauth%3a2.0%3aoob&response_type=code&scope=email%20https%3a%2f%2fwww.googleapis.com%2fauth%2fdocs.test%20https%3a%2f%2fwww.googleapis.com%2fauth%2fdrive%20https%3a%2f%2fwww.googleapis.com%2fauth%2fdrive.photos.readonly%20https%3a%2f%2fwww.googleapis.com%2fauth%2fpeopleapi.readonly\n",
            "\n",
            "Enter your authorization code:\n",
            "··········\n",
            "Mounted at /content/drive\n"
          ],
          "name": "stdout"
        }
      ]
    },
    {
      "cell_type": "code",
      "metadata": {
        "colab_type": "code",
        "id": "FAHDcKqdacRM",
        "colab": {
          "base_uri": "https://localhost:8080/",
          "height": 960
        },
        "outputId": "6cd6e5da-644b-4f0a-8b9f-858e64bbfec3"
      },
      "source": [
        "!pip install tensorflow-gpu==1.15"
      ],
      "execution_count": 2,
      "outputs": [
        {
          "output_type": "stream",
          "text": [
            "Collecting tensorflow-gpu==1.15\n",
            "\u001b[?25l  Downloading https://files.pythonhosted.org/packages/a5/ad/933140e74973fb917a194ab814785e7c23680ca5dee6d663a509fe9579b6/tensorflow_gpu-1.15.0-cp36-cp36m-manylinux2010_x86_64.whl (411.5MB)\n",
            "\u001b[K     |████████████████████████████████| 411.5MB 27kB/s \n",
            "\u001b[?25hRequirement already satisfied: google-pasta>=0.1.6 in /usr/local/lib/python3.6/dist-packages (from tensorflow-gpu==1.15) (0.2.0)\n",
            "Requirement already satisfied: termcolor>=1.1.0 in /usr/local/lib/python3.6/dist-packages (from tensorflow-gpu==1.15) (1.1.0)\n",
            "Requirement already satisfied: grpcio>=1.8.6 in /usr/local/lib/python3.6/dist-packages (from tensorflow-gpu==1.15) (1.30.0)\n",
            "Requirement already satisfied: astor>=0.6.0 in /usr/local/lib/python3.6/dist-packages (from tensorflow-gpu==1.15) (0.8.1)\n",
            "Requirement already satisfied: opt-einsum>=2.3.2 in /usr/local/lib/python3.6/dist-packages (from tensorflow-gpu==1.15) (3.2.1)\n",
            "Collecting gast==0.2.2\n",
            "  Downloading https://files.pythonhosted.org/packages/4e/35/11749bf99b2d4e3cceb4d55ca22590b0d7c2c62b9de38ac4a4a7f4687421/gast-0.2.2.tar.gz\n",
            "Requirement already satisfied: keras-applications>=1.0.8 in /usr/local/lib/python3.6/dist-packages (from tensorflow-gpu==1.15) (1.0.8)\n",
            "Requirement already satisfied: wheel>=0.26 in /usr/local/lib/python3.6/dist-packages (from tensorflow-gpu==1.15) (0.34.2)\n",
            "Requirement already satisfied: numpy<2.0,>=1.16.0 in /usr/local/lib/python3.6/dist-packages (from tensorflow-gpu==1.15) (1.18.5)\n",
            "Requirement already satisfied: wrapt>=1.11.1 in /usr/local/lib/python3.6/dist-packages (from tensorflow-gpu==1.15) (1.12.1)\n",
            "Requirement already satisfied: absl-py>=0.7.0 in /usr/local/lib/python3.6/dist-packages (from tensorflow-gpu==1.15) (0.9.0)\n",
            "Requirement already satisfied: six>=1.10.0 in /usr/local/lib/python3.6/dist-packages (from tensorflow-gpu==1.15) (1.12.0)\n",
            "Collecting tensorboard<1.16.0,>=1.15.0\n",
            "\u001b[?25l  Downloading https://files.pythonhosted.org/packages/1e/e9/d3d747a97f7188f48aa5eda486907f3b345cd409f0a0850468ba867db246/tensorboard-1.15.0-py3-none-any.whl (3.8MB)\n",
            "\u001b[K     |████████████████████████████████| 3.8MB 43.4MB/s \n",
            "\u001b[?25hCollecting tensorflow-estimator==1.15.1\n",
            "\u001b[?25l  Downloading https://files.pythonhosted.org/packages/de/62/2ee9cd74c9fa2fa450877847ba560b260f5d0fb70ee0595203082dafcc9d/tensorflow_estimator-1.15.1-py2.py3-none-any.whl (503kB)\n",
            "\u001b[K     |████████████████████████████████| 512kB 32.1MB/s \n",
            "\u001b[?25hRequirement already satisfied: protobuf>=3.6.1 in /usr/local/lib/python3.6/dist-packages (from tensorflow-gpu==1.15) (3.10.0)\n",
            "Requirement already satisfied: keras-preprocessing>=1.0.5 in /usr/local/lib/python3.6/dist-packages (from tensorflow-gpu==1.15) (1.1.2)\n",
            "Requirement already satisfied: h5py in /usr/local/lib/python3.6/dist-packages (from keras-applications>=1.0.8->tensorflow-gpu==1.15) (2.10.0)\n",
            "Requirement already satisfied: setuptools>=41.0.0 in /usr/local/lib/python3.6/dist-packages (from tensorboard<1.16.0,>=1.15.0->tensorflow-gpu==1.15) (47.3.1)\n",
            "Requirement already satisfied: werkzeug>=0.11.15 in /usr/local/lib/python3.6/dist-packages (from tensorboard<1.16.0,>=1.15.0->tensorflow-gpu==1.15) (1.0.1)\n",
            "Requirement already satisfied: markdown>=2.6.8 in /usr/local/lib/python3.6/dist-packages (from tensorboard<1.16.0,>=1.15.0->tensorflow-gpu==1.15) (3.2.2)\n",
            "Requirement already satisfied: importlib-metadata; python_version < \"3.8\" in /usr/local/lib/python3.6/dist-packages (from markdown>=2.6.8->tensorboard<1.16.0,>=1.15.0->tensorflow-gpu==1.15) (1.6.1)\n",
            "Requirement already satisfied: zipp>=0.5 in /usr/local/lib/python3.6/dist-packages (from importlib-metadata; python_version < \"3.8\"->markdown>=2.6.8->tensorboard<1.16.0,>=1.15.0->tensorflow-gpu==1.15) (3.1.0)\n",
            "Building wheels for collected packages: gast\n",
            "  Building wheel for gast (setup.py) ... \u001b[?25l\u001b[?25hdone\n",
            "  Created wheel for gast: filename=gast-0.2.2-cp36-none-any.whl size=7540 sha256=04ca7c5c8dbe21641854291a1919aeccd9edf56d4fd160ff7d1f57024c009b10\n",
            "  Stored in directory: /root/.cache/pip/wheels/5c/2e/7e/a1d4d4fcebe6c381f378ce7743a3ced3699feb89bcfbdadadd\n",
            "Successfully built gast\n",
            "\u001b[31mERROR: tensorflow 2.2.0 has requirement gast==0.3.3, but you'll have gast 0.2.2 which is incompatible.\u001b[0m\n",
            "\u001b[31mERROR: tensorflow 2.2.0 has requirement tensorboard<2.3.0,>=2.2.0, but you'll have tensorboard 1.15.0 which is incompatible.\u001b[0m\n",
            "\u001b[31mERROR: tensorflow 2.2.0 has requirement tensorflow-estimator<2.3.0,>=2.2.0, but you'll have tensorflow-estimator 1.15.1 which is incompatible.\u001b[0m\n",
            "\u001b[31mERROR: tensorflow-probability 0.10.0 has requirement gast>=0.3.2, but you'll have gast 0.2.2 which is incompatible.\u001b[0m\n",
            "Installing collected packages: gast, tensorboard, tensorflow-estimator, tensorflow-gpu\n",
            "  Found existing installation: gast 0.3.3\n",
            "    Uninstalling gast-0.3.3:\n",
            "      Successfully uninstalled gast-0.3.3\n",
            "  Found existing installation: tensorboard 2.2.2\n",
            "    Uninstalling tensorboard-2.2.2:\n",
            "      Successfully uninstalled tensorboard-2.2.2\n",
            "  Found existing installation: tensorflow-estimator 2.2.0\n",
            "    Uninstalling tensorflow-estimator-2.2.0:\n",
            "      Successfully uninstalled tensorflow-estimator-2.2.0\n",
            "Successfully installed gast-0.2.2 tensorboard-1.15.0 tensorflow-estimator-1.15.1 tensorflow-gpu-1.15.0\n"
          ],
          "name": "stdout"
        }
      ]
    },
    {
      "cell_type": "code",
      "metadata": {
        "colab_type": "code",
        "id": "aQlg7Wm6a8MI",
        "colab": {
          "base_uri": "https://localhost:8080/",
          "height": 92
        },
        "outputId": "5dcc64c4-4b28-45dd-88b1-b0a8fafd9b40"
      },
      "source": [
        "import pandas as pd\n",
        "import seaborn as sb\n",
        "import matplotlib.pyplot as plt\n",
        "from scipy.io import loadmat\n",
        "import math\n",
        "import numpy as np\n",
        "import h5py\n",
        "import scipy\n",
        "from PIL import Image\n",
        "from scipy import ndimage\n",
        "import tensorflow as tf\n",
        "from tensorflow.python.framework import ops\n",
        "\n",
        "\n",
        "import tqdm\n",
        "epsilon = 1e-3\n",
        "\n",
        "%matplotlib inline\n",
        "np.random.seed(1)\n",
        "\n",
        "\n",
        "# For one hot y\n",
        "from numpy import argmax\n",
        "from keras.utils import to_categorical\n"
      ],
      "execution_count": 3,
      "outputs": [
        {
          "output_type": "stream",
          "text": [
            "/usr/local/lib/python3.6/dist-packages/statsmodels/tools/_testing.py:19: FutureWarning: pandas.util.testing is deprecated. Use the functions in the public API at pandas.testing instead.\n",
            "  import pandas.util.testing as tm\n",
            "Using TensorFlow backend.\n"
          ],
          "name": "stderr"
        }
      ]
    },
    {
      "cell_type": "code",
      "metadata": {
        "id": "NUgTshcZ5wgv",
        "colab_type": "code",
        "colab": {
          "base_uri": "https://localhost:8080/",
          "height": 35
        },
        "outputId": "25e9bb63-57e9-4f80-d53d-af18dadc9ce8"
      },
      "source": [
        "print(tf.__version__)"
      ],
      "execution_count": 4,
      "outputs": [
        {
          "output_type": "stream",
          "text": [
            "1.15.0\n"
          ],
          "name": "stdout"
        }
      ]
    },
    {
      "cell_type": "code",
      "metadata": {
        "colab_type": "code",
        "id": "gF9qjdWNeqyV",
        "colab": {}
      },
      "source": [
        " \"\"\"\n",
        "    Creates a list of random minibatches from (X, Y)\n",
        "    \n",
        "    Arguments:\n",
        "    X -- input data, of shape (input size, number of examples) (m, Hi, Wi, Ci)\n",
        "    Y -- true \"label\" vector (containing 0 if cat, 1 if non-cat), of shape (1, number of examples) (m, n_y)\n",
        "    mini_batch_size - size of the mini-batches, integer\n",
        "    seed -- this is only for the purpose of grading, so that you're \"random minibatches are the same as ours.\n",
        "    \n",
        "    Returns:\n",
        "    mini_batches -- list of synchronous (mini_batch_X, mini_batch_Y)\n",
        "\"\"\"\n",
        "\n",
        "\n",
        "def random_mini_batches(X, Y, mini_batch_size = 64, seed = 0):\n",
        "   \n",
        "    \n",
        "    m = X.shape[0]                  # number of training examples\n",
        "    mini_batches = []\n",
        "    np.random.seed(seed)\n",
        "    \n",
        "    # Step 1: Shuffle (X, Y)\n",
        "    permutation = list(np.random.permutation(m))\n",
        "    shuffled_X = X[permutation,:,:,:]\n",
        "    shuffled_Y = Y[permutation,:]\n",
        "\n",
        "    # Step 2: Partition (shuffled_X, shuffled_Y). Minus the end case.\n",
        "    num_complete_minibatches = math.floor(m/mini_batch_size) # number of mini batches of size mini_batch_size in your partitionning\n",
        "    for k in range(0, num_complete_minibatches):\n",
        "        mini_batch_X = shuffled_X[k * mini_batch_size : k * mini_batch_size + mini_batch_size,:,:,:]\n",
        "        mini_batch_Y = shuffled_Y[k * mini_batch_size : k * mini_batch_size + mini_batch_size,:]\n",
        "        mini_batch = (mini_batch_X, mini_batch_Y)\n",
        "        mini_batches.append(mini_batch)\n",
        "    \n",
        "    # Handling the end case (last mini-batch < mini_batch_size)\n",
        "    if m % mini_batch_size != 0:\n",
        "        mini_batch_X = shuffled_X[num_complete_minibatches * mini_batch_size : m,:,:,:]\n",
        "        mini_batch_Y = shuffled_Y[num_complete_minibatches * mini_batch_size : m,:]\n",
        "        mini_batch = (mini_batch_X, mini_batch_Y)\n",
        "        mini_batches.append(mini_batch)\n",
        "    \n",
        "    return mini_batches\n"
      ],
      "execution_count": 5,
      "outputs": []
    },
    {
      "cell_type": "code",
      "metadata": {
        "colab_type": "code",
        "id": "p5ZjKqRFcfzn",
        "colab": {}
      },
      "source": [
        "\n",
        "# loadmat func to read mat files \n",
        "def load_mat_func(path):\n",
        "    data=loadmat(path)\n",
        "    return data['X'],data['y']\n",
        " "
      ],
      "execution_count": 6,
      "outputs": []
    },
    {
      "cell_type": "code",
      "metadata": {
        "colab_type": "code",
        "id": "PqFCTYE6d5aO",
        "colab": {
          "base_uri": "https://localhost:8080/",
          "height": 54
        },
        "outputId": "aa44af2d-dbf8-4c31-da9d-e3ee3088773a"
      },
      "source": [
        "train_X_orig,train_Y_orig=load_mat_func('/content/drive/My Drive/productivity/datasets/svhn/32_32_images/train_32x32.mat')\n",
        "\n",
        "test_X_orig,test_Y_orig=load_mat_func('/content/drive/My Drive/productivity/datasets/svhn/32_32_images/test_32x32.mat')\n",
        "\n",
        "# getting shape of training and testing set\n",
        "\n",
        "print(\"Shape of training set:\",train_X_orig.shape,train_Y_orig.shape)\n",
        "print(\"Shape of testing set:\",test_X_orig.shape,test_Y_orig.shape)\n"
      ],
      "execution_count": 7,
      "outputs": [
        {
          "output_type": "stream",
          "text": [
            "Shape of training set: (32, 32, 3, 73257) (73257, 1)\n",
            "Shape of testing set: (32, 32, 3, 26032) (26032, 1)\n"
          ],
          "name": "stdout"
        }
      ]
    },
    {
      "cell_type": "code",
      "metadata": {
        "colab_type": "code",
        "id": "1NL3E73re6J7",
        "colab": {
          "base_uri": "https://localhost:8080/",
          "height": 54
        },
        "outputId": "2e34e0b6-4bf1-44c9-e910-0c50b9c46335"
      },
      "source": [
        "train_X,train_Y=train_X_orig.transpose((3,0,1,2)),train_Y_orig[: ,0]\n",
        "test_X,test_Y=test_X_orig.transpose((3,0,1,2)),test_Y_orig[: ,0]\n",
        "# getting shape of training and testing set after transpose\n",
        "\n",
        "print(\"Shape of training set:\",train_X.shape,train_Y.shape)\n",
        "print(\"Shape of testing set:\",test_X.shape,test_Y.shape)\n"
      ],
      "execution_count": 8,
      "outputs": [
        {
          "output_type": "stream",
          "text": [
            "Shape of training set: (73257, 32, 32, 3) (73257,)\n",
            "Shape of testing set: (26032, 32, 32, 3) (26032,)\n"
          ],
          "name": "stdout"
        }
      ]
    },
    {
      "cell_type": "code",
      "metadata": {
        "colab_type": "code",
        "id": "SB0pX5LXvXc7",
        "colab": {
          "base_uri": "https://localhost:8080/",
          "height": 54
        },
        "outputId": "8c4c425b-4813-4794-b36a-cdc8007b0c54"
      },
      "source": [
        "# getting shape of training and testing set after transpose\n",
        "\n",
        "print(\"Shape of training set:\",train_X_orig.shape,train_Y_orig.shape)\n",
        "print(\"Shape of testing set:\",test_X_orig.shape,test_Y_orig.shape)"
      ],
      "execution_count": 9,
      "outputs": [
        {
          "output_type": "stream",
          "text": [
            "Shape of training set: (32, 32, 3, 73257) (73257, 1)\n",
            "Shape of testing set: (32, 32, 3, 26032) (26032, 1)\n"
          ],
          "name": "stdout"
        }
      ]
    },
    {
      "cell_type": "code",
      "metadata": {
        "colab_type": "code",
        "id": "hjj8Tx-ytydi",
        "colab": {
          "base_uri": "https://localhost:8080/",
          "height": 146
        },
        "outputId": "7e571547-90c7-410f-d986-dcefb33374f3"
      },
      "source": [
        "train_Y_orig"
      ],
      "execution_count": 10,
      "outputs": [
        {
          "output_type": "execute_result",
          "data": {
            "text/plain": [
              "array([[1],\n",
              "       [9],\n",
              "       [2],\n",
              "       ...,\n",
              "       [1],\n",
              "       [6],\n",
              "       [9]], dtype=uint8)"
            ]
          },
          "metadata": {
            "tags": []
          },
          "execution_count": 10
        }
      ]
    },
    {
      "cell_type": "code",
      "metadata": {
        "colab_type": "code",
        "id": "abCVpJH8tyRR",
        "colab": {
          "base_uri": "https://localhost:8080/",
          "height": 35
        },
        "outputId": "aa018758-68ec-4db1-f9d8-b628f752c737"
      },
      "source": [
        "train_Y"
      ],
      "execution_count": 11,
      "outputs": [
        {
          "output_type": "execute_result",
          "data": {
            "text/plain": [
              "array([1, 9, 2, ..., 1, 6, 9], dtype=uint8)"
            ]
          },
          "metadata": {
            "tags": []
          },
          "execution_count": 11
        }
      ]
    },
    {
      "cell_type": "code",
      "metadata": {
        "colab_type": "code",
        "id": "OCsIwar4g4bN",
        "colab": {}
      },
      "source": [
        ""
      ],
      "execution_count": 11,
      "outputs": []
    },
    {
      "cell_type": "code",
      "metadata": {
        "colab_type": "code",
        "id": "ja5WDJXmvdff",
        "colab": {
          "base_uri": "https://localhost:8080/",
          "height": 284
        },
        "outputId": "2a913553-18b5-4e56-ae8a-b92d13e7b3e3"
      },
      "source": [
        "# Example of a picture\n",
        "index = 8\n",
        "plt.imshow(train_X[index])\n",
        "print (\"y = \" + str(np.squeeze(train_Y_orig[index, :])))"
      ],
      "execution_count": 12,
      "outputs": [
        {
          "output_type": "stream",
          "text": [
            "y = 3\n"
          ],
          "name": "stdout"
        },
        {
          "output_type": "display_data",
          "data": {
            "image/png": "[encoded data removed]",
            "text/plain": [
              "<Figure size 432x288 with 1 Axes>"
            ]
          },
          "metadata": {
            "tags": [],
            "needs_background": "light"
          }
        }
      ]
    },
    {
      "cell_type": "code",
      "metadata": {
        "colab_type": "code",
        "id": "1IHHwIBTiemW",
        "colab": {}
      },
      "source": [
        "def plot_images(img, labels, nrows, ncols):\n",
        "    \"\"\" Plot nrows x ncols images\n",
        "    \"\"\"\n",
        "    fig, axes = plt.subplots(nrows, ncols)\n",
        "    for i, ax in enumerate(axes.flat): \n",
        "        if img[i].shape == (32, 32, 3):\n",
        "            ax.imshow(img[i])\n",
        "        else:\n",
        "            ax.imshow(img[i,:,:,0])\n",
        "        ax.set_xticks([]); ax.set_yticks([])\n",
        "        ax.set_title(labels[i])"
      ],
      "execution_count": 13,
      "outputs": []
    },
    {
      "cell_type": "code",
      "metadata": {
        "colab_type": "code",
        "id": "P0miBB2PifpK",
        "colab": {
          "base_uri": "https://localhost:8080/",
          "height": 268
        },
        "outputId": "08588de3-b225-48b5-a31b-b45920022865"
      },
      "source": [
        "plot_images(train_X,train_Y, 3, 4)"
      ],
      "execution_count": 14,
      "outputs": [
        {
          "output_type": "display_data",
          "data": {
            "image/png": "[encoded data removed]",
            "text/plain": [
              "<Figure size 432x288 with 12 Axes>"
            ]
          },
          "metadata": {
            "tags": []
          }
        }
      ]
    },
    {
      "cell_type": "code",
      "metadata": {
        "colab_type": "code",
        "id": "Awf-jChRifnk",
        "colab": {
          "base_uri": "https://localhost:8080/",
          "height": 268
        },
        "outputId": "a351dfe7-9a40-475c-ac0a-f8b3f77ee3c8"
      },
      "source": [
        "plot_images(test_X,test_Y, 3, 4)\n"
      ],
      "execution_count": 15,
      "outputs": [
        {
          "output_type": "display_data",
          "data": {
            "image/png": "[encoded data removed]",
            "text/plain": [
              "<Figure size 432x288 with 12 Axes>"
            ]
          },
          "metadata": {
            "tags": []
          }
        }
      ]
    },
    {
      "cell_type": "code",
      "metadata": {
        "colab_type": "code",
        "id": "-5gVBH5nifk2",
        "colab": {
          "base_uri": "https://localhost:8080/",
          "height": 35
        },
        "outputId": "7f4a3b28-b0d6-4113-c23e-8b993683ffc4"
      },
      "source": [
        "print(np.unique(train_Y))"
      ],
      "execution_count": 16,
      "outputs": [
        {
          "output_type": "stream",
          "text": [
            "[ 1  2  3  4  5  6  7  8  9 10]\n"
          ],
          "name": "stdout"
        }
      ]
    },
    {
      "cell_type": "code",
      "metadata": {
        "colab_type": "code",
        "id": "eYZnvJcbifjL",
        "colab": {
          "base_uri": "https://localhost:8080/",
          "height": 35
        },
        "outputId": "99541fd8-b3a8-4f84-c605-36bd22e1c478"
      },
      "source": [
        "print(np.unique(test_Y))"
      ],
      "execution_count": 17,
      "outputs": [
        {
          "output_type": "stream",
          "text": [
            "[ 1  2  3  4  5  6  7  8  9 10]\n"
          ],
          "name": "stdout"
        }
      ]
    },
    {
      "cell_type": "code",
      "metadata": {
        "colab_type": "code",
        "id": "R7-yUR-K08fA",
        "colab": {
          "base_uri": "https://localhost:8080/",
          "height": 386
        },
        "outputId": "cc41d65c-bc28-48bd-88e3-151fce4f03be"
      },
      "source": [
        "np.unique(train_X_orig)"
      ],
      "execution_count": 18,
      "outputs": [
        {
          "output_type": "execute_result",
          "data": {
            "text/plain": [
              "array([  0,   1,   2,   3,   4,   5,   6,   7,   8,   9,  10,  11,  12,\n",
              "        13,  14,  15,  16,  17,  18,  19,  20,  21,  22,  23,  24,  25,\n",
              "        26,  27,  28,  29,  30,  31,  32,  33,  34,  35,  36,  37,  38,\n",
              "        39,  40,  41,  42,  43,  44,  45,  46,  47,  48,  49,  50,  51,\n",
              "        52,  53,  54,  55,  56,  57,  58,  59,  60,  61,  62,  63,  64,\n",
              "        65,  66,  67,  68,  69,  70,  71,  72,  73,  74,  75,  76,  77,\n",
              "        78,  79,  80,  81,  82,  83,  84,  85,  86,  87,  88,  89,  90,\n",
              "        91,  92,  93,  94,  95,  96,  97,  98,  99, 100, 101, 102, 103,\n",
              "       104, 105, 106, 107, 108, 109, 110, 111, 112, 113, 114, 115, 116,\n",
              "       117, 118, 119, 120, 121, 122, 123, 124, 125, 126, 127, 128, 129,\n",
              "       130, 131, 132, 133, 134, 135, 136, 137, 138, 139, 140, 141, 142,\n",
              "       143, 144, 145, 146, 147, 148, 149, 150, 151, 152, 153, 154, 155,\n",
              "       156, 157, 158, 159, 160, 161, 162, 163, 164, 165, 166, 167, 168,\n",
              "       169, 170, 171, 172, 173, 174, 175, 176, 177, 178, 179, 180, 181,\n",
              "       182, 183, 184, 185, 186, 187, 188, 189, 190, 191, 192, 193, 194,\n",
              "       195, 196, 197, 198, 199, 200, 201, 202, 203, 204, 205, 206, 207,\n",
              "       208, 209, 210, 211, 212, 213, 214, 215, 216, 217, 218, 219, 220,\n",
              "       221, 222, 223, 224, 225, 226, 227, 228, 229, 230, 231, 232, 233,\n",
              "       234, 235, 236, 237, 238, 239, 240, 241, 242, 243, 244, 245, 246,\n",
              "       247, 248, 249, 250, 251, 252, 253, 254, 255], dtype=uint8)"
            ]
          },
          "metadata": {
            "tags": []
          },
          "execution_count": 18
        }
      ]
    },
    {
      "cell_type": "code",
      "metadata": {
        "colab_type": "code",
        "id": "FBiWvmEB1Isu",
        "colab": {
          "base_uri": "https://localhost:8080/",
          "height": 386
        },
        "outputId": "3641f480-34ee-446d-d287-8c70739a175b"
      },
      "source": [
        "np.unique(train_X)"
      ],
      "execution_count": 19,
      "outputs": [
        {
          "output_type": "execute_result",
          "data": {
            "text/plain": [
              "array([  0,   1,   2,   3,   4,   5,   6,   7,   8,   9,  10,  11,  12,\n",
              "        13,  14,  15,  16,  17,  18,  19,  20,  21,  22,  23,  24,  25,\n",
              "        26,  27,  28,  29,  30,  31,  32,  33,  34,  35,  36,  37,  38,\n",
              "        39,  40,  41,  42,  43,  44,  45,  46,  47,  48,  49,  50,  51,\n",
              "        52,  53,  54,  55,  56,  57,  58,  59,  60,  61,  62,  63,  64,\n",
              "        65,  66,  67,  68,  69,  70,  71,  72,  73,  74,  75,  76,  77,\n",
              "        78,  79,  80,  81,  82,  83,  84,  85,  86,  87,  88,  89,  90,\n",
              "        91,  92,  93,  94,  95,  96,  97,  98,  99, 100, 101, 102, 103,\n",
              "       104, 105, 106, 107, 108, 109, 110, 111, 112, 113, 114, 115, 116,\n",
              "       117, 118, 119, 120, 121, 122, 123, 124, 125, 126, 127, 128, 129,\n",
              "       130, 131, 132, 133, 134, 135, 136, 137, 138, 139, 140, 141, 142,\n",
              "       143, 144, 145, 146, 147, 148, 149, 150, 151, 152, 153, 154, 155,\n",
              "       156, 157, 158, 159, 160, 161, 162, 163, 164, 165, 166, 167, 168,\n",
              "       169, 170, 171, 172, 173, 174, 175, 176, 177, 178, 179, 180, 181,\n",
              "       182, 183, 184, 185, 186, 187, 188, 189, 190, 191, 192, 193, 194,\n",
              "       195, 196, 197, 198, 199, 200, 201, 202, 203, 204, 205, 206, 207,\n",
              "       208, 209, 210, 211, 212, 213, 214, 215, 216, 217, 218, 219, 220,\n",
              "       221, 222, 223, 224, 225, 226, 227, 228, 229, 230, 231, 232, 233,\n",
              "       234, 235, 236, 237, 238, 239, 240, 241, 242, 243, 244, 245, 246,\n",
              "       247, 248, 249, 250, 251, 252, 253, 254, 255], dtype=uint8)"
            ]
          },
          "metadata": {
            "tags": []
          },
          "execution_count": 19
        }
      ]
    },
    {
      "cell_type": "code",
      "metadata": {
        "colab_type": "code",
        "id": "S4WPP5oFifgX",
        "colab": {}
      },
      "source": [
        "train_Y[train_Y==10]=0\n",
        "test_Y[test_Y==10]=0"
      ],
      "execution_count": 20,
      "outputs": []
    },
    {
      "cell_type": "code",
      "metadata": {
        "colab_type": "code",
        "id": "IV6H3QkN0P5e",
        "colab": {}
      },
      "source": [
        "# Flatten the training and test images\n",
        "\n",
        "# numpy allow us to give one of new shape parameter as -1 (eg: (2,-1) or (-1,3) but not (-1, -1)).\n",
        "# It simply means that it is an unknown dimension and we want numpy to figure it out.\n",
        "#  And numpy will figure this by looking at the 'length of the array and remaining dimensions\n",
        "# X_train_flatten = train_X.reshape(train_X.shape[0], -1).T\n",
        "# X_test_flatten = test_X.reshape(test_X.shape[0], -1).T"
      ],
      "execution_count": 21,
      "outputs": []
    },
    {
      "cell_type": "code",
      "metadata": {
        "colab_type": "code",
        "id": "ScBWPC26Fctj",
        "colab": {}
      },
      "source": [
        "# Normalize image vectors\n",
        "X_train = train_X/255.\n",
        "X_test = test_X/255.\n",
        "Y_train=to_categorical(train_Y_orig)\n",
        "Y_test=to_categorical(test_Y_orig)"
      ],
      "execution_count": 22,
      "outputs": []
    },
    {
      "cell_type": "code",
      "metadata": {
        "colab_type": "code",
        "id": "Xy9JCq4sIeFI",
        "colab": {
          "base_uri": "https://localhost:8080/",
          "height": 35
        },
        "outputId": "78a9bf5f-087d-4b59-bf79-b0076b2147d9"
      },
      "source": [
        "X_train.shape"
      ],
      "execution_count": 23,
      "outputs": [
        {
          "output_type": "execute_result",
          "data": {
            "text/plain": [
              "(73257, 32, 32, 3)"
            ]
          },
          "metadata": {
            "tags": []
          },
          "execution_count": 23
        }
      ]
    },
    {
      "cell_type": "code",
      "metadata": {
        "colab_type": "code",
        "id": "4gGFB-aKIoZt",
        "colab": {
          "base_uri": "https://localhost:8080/",
          "height": 35
        },
        "outputId": "feccbcfd-3570-48b4-d09b-05aac0d19ac0"
      },
      "source": [
        "X_test.shape"
      ],
      "execution_count": 24,
      "outputs": [
        {
          "output_type": "execute_result",
          "data": {
            "text/plain": [
              "(26032, 32, 32, 3)"
            ]
          },
          "metadata": {
            "tags": []
          },
          "execution_count": 24
        }
      ]
    },
    {
      "cell_type": "code",
      "metadata": {
        "colab_type": "code",
        "id": "tJBwux1cKyEl",
        "colab": {
          "base_uri": "https://localhost:8080/",
          "height": 35
        },
        "outputId": "33008950-6eaa-4177-8ed6-0db6fac566d2"
      },
      "source": [
        "Y_train.shape"
      ],
      "execution_count": 25,
      "outputs": [
        {
          "output_type": "execute_result",
          "data": {
            "text/plain": [
              "(73257, 10)"
            ]
          },
          "metadata": {
            "tags": []
          },
          "execution_count": 25
        }
      ]
    },
    {
      "cell_type": "code",
      "metadata": {
        "colab_type": "code",
        "id": "U_HIivslmy2b",
        "colab": {
          "base_uri": "https://localhost:8080/",
          "height": 35
        },
        "outputId": "b126f13e-5e12-4d67-c632-a1e9ef45dbb2"
      },
      "source": [
        "Y_test.shape"
      ],
      "execution_count": 26,
      "outputs": [
        {
          "output_type": "execute_result",
          "data": {
            "text/plain": [
              "(26032, 10)"
            ]
          },
          "metadata": {
            "tags": []
          },
          "execution_count": 26
        }
      ]
    },
    {
      "cell_type": "markdown",
      "metadata": {
        "colab_type": "text",
        "id": "hI_RqEBaLmTH"
      },
      "source": [
        "**Create placeholders**\n",
        "\n",
        "TensorFlow requires that you create placeholders for the input data that will be fed into the model when running the session."
      ]
    },
    {
      "cell_type": "code",
      "metadata": {
        "colab_type": "code",
        "id": "J0-YQd7oM9uH",
        "colab": {}
      },
      "source": [
        "\"\"\"\n",
        "    Creates the placeholders for the tensorflow session.\n",
        "    \n",
        "    Arguments:\n",
        "    n_H0 -- scalar, height of an input image\n",
        "    n_W0 -- scalar, width of an input image\n",
        "    n_C0 -- scalar, number of channels of the input\n",
        "    n_y -- scalar, number of classes\n",
        "        \n",
        "    Returns:\n",
        "    X -- placeholder for the data input, of shape [None, n_H0, n_W0, n_C0] and dtype \"float\"\n",
        "    Y -- placeholder for the input labels, of shape [None, n_y] and dtype \"float\"\n",
        "\"\"\"\n",
        "def create_placeholder(n_H0,n_W0,n_C0,n_Y):\n",
        "  X=tf.placeholder(tf.float32,[None,n_H0,n_W0,n_C0])\n",
        "  Y=tf.placeholder(tf.float32,[None,n_Y])\n",
        "  return X,Y"
      ],
      "execution_count": 27,
      "outputs": []
    },
    {
      "cell_type": "code",
      "metadata": {
        "colab_type": "code",
        "id": "vRP2AN1fNQm0",
        "colab": {}
      },
      "source": [
        "\"\"\"\n",
        "    Initializes weight parameters to build a neural network with tensorflow. The shapes are:\n",
        "                        W1 : [4, 4, 3, 8]\n",
        "                        W2 : [2, 2, 8, 16]\n",
        "    Note that we will hard code the shape values in the function to make the grading simpler.\n",
        "    Normally, functions should take values as inputs rather than hard coding.\n",
        "    Returns:\n",
        "    parameters -- a dictionary of tensors containing W1, W2\n",
        "\"\"\"\n",
        "\n",
        "def initialize_parameters():\n",
        "  tf.set_random_seed(1)   \n",
        "  W1=tf.get_variable(\"W1\",[5,5,3,6],initializer=tf.contrib.layers.xavier_initializer(seed = 0))\n",
        "  W2=tf.get_variable(\"W2\",[5,5,6,16],initializer=tf.contrib.layers.xavier_initializer(seed = 0))\n",
        "  W3=tf.get_variable(\"W3\",[5,5,16,32],initializer=tf.contrib.layers.xavier_initializer(seed = 0))\n",
        "  W4=tf.get_variable(\"W4\",[5,5,16,64],initializer=tf.contrib.layers.xavier_initializer(seed = 0))\n",
        "\n",
        "  parameters={\"W1\":W1,\n",
        "              \"W2\":W2,\n",
        "              \"W3\":W3,\n",
        "              \"W4\":W4\n",
        "              }\n",
        "  return parameters"
      ],
      "execution_count": 28,
      "outputs": []
    },
    {
      "cell_type": "markdown",
      "metadata": {
        "colab_type": "text",
        "id": "2QWy5ox-OWxy"
      },
      "source": [
        "Forward Propagation"
      ]
    },
    {
      "cell_type": "markdown",
      "metadata": {
        "colab_type": "text",
        "id": "eJ6PxOXROe-n"
      },
      "source": [
        "Implement the forward_propagation function below to build the following model: CONV2D -> RELU -> MAXPOOL -> CONV2D -> RELU -> MAXPOOL -> FLATTEN -> FULLYCONNECTED. "
      ]
    },
    {
      "cell_type": "code",
      "metadata": {
        "colab_type": "code",
        "id": "I8hoTAQPOOX5",
        "colab": {}
      },
      "source": [
        "\"\"\"\n",
        "    Implements the forward propagation for the model:\n",
        "    CONV2D -> RELU -> MAXPOOL -> CONV2D -> RELU -> MAXPOOL -> FLATTEN -> FULLYCONNECTED\n",
        "    \n",
        "    Note that for simplicity and grading purposes, we'll hard-code some values\n",
        "    such as the stride and kernel (filter) sizes. \n",
        "    Normally, functions should take these values as function parameters.\n",
        "    \n",
        "    Arguments:\n",
        "    X -- input dataset placeholder, of shape (input size, number of examples)\n",
        "    parameters -- python dictionary containing your parameters \"W1\", \"W2\"\n",
        "                  the shapes are given in initialize_parameters\n",
        "\n",
        "    Returns:\n",
        "    Z3 -- the output of the last LINEAR unit\n",
        "\"\"\"\n",
        "\n",
        "def forward_propagation(X,parameters):\n",
        "\n",
        "  # Retrieve the parameters from the dictionary \"parameters\" \n",
        "  W1=parameters[\"W1\"]\n",
        "  W2=parameters[\"W2\"]\n",
        "  W3=parameters[\"W3\"]\n",
        "  W4=parameters[\"W4\"]\n",
        "\n",
        "  # Conv2D stride=1x1 and padding same\n",
        "  Z1=tf.nn.conv2d(X,W1,strides=[1,1,1,1],padding='SAME')\n",
        "\n",
        "  # # Batch Normalization\n",
        "  # batch_mean1, batch_var1 = tf.nn.moments(Z1,[0])\n",
        "  # scale1 = tf.Variable(tf.ones([32,32,8]))\n",
        "  # beta1 = tf.Variable(tf.zeros([32,32,8]))\n",
        "  # BN1 = tf.nn.batch_normalization(Z1,batch_mean1,batch_var1,beta1,scale1,epsilon)\n",
        "\n",
        "\n",
        "\n",
        "\n",
        "  # Relu\n",
        "  A1=tf.nn.relu(Z1)\n",
        "\n",
        "  # Max Pooling with stride=8x8,ksize=8x8 and padding=same\n",
        "  P1=tf.nn.max_pool(A1,ksize=[1,2,2,1],strides=[1,2,2,1],padding='VALID')\n",
        "\n",
        "  \n",
        "  \n",
        "  # Con2d stride=1x1 ,padding=same\n",
        "  Z2=tf.nn.conv2d(P1,W2,strides=[1,1,1,1],padding='VALID')\n",
        "  \n",
        "\n",
        "  # batch_mean2, batch_var2 = tf.nn.moments(Z2,[0])\n",
        "  # scale2 = tf.Variable(tf.ones([8,8,16]))\n",
        "  # beta2 = tf.Variable(tf.zeros([8,8,16]))\n",
        "\n",
        "  # BN2 = tf.nn.batch_normalization(Z2,batch_mean2,batch_var1,beta2,scale2,epsilon)\n",
        "\n",
        "\n",
        "\n",
        "\n",
        "\n",
        "  # Relu\n",
        "  A2=tf.nn.relu(Z2)\n",
        "\n",
        "  # Max Pooling with stride=4x4,ksize=4x4 and padding=same\n",
        "  P2=tf.nn.max_pool(A2,ksize=[1,2,2,1],strides=[1,2,2,1],padding='VALID')\n",
        "  \n",
        "  # Con2d stride=1x1 ,padding=same\n",
        "  Z3=tf.nn.conv2d(P2,W3,strides=[1,1,1,1],padding='VALID')\n",
        "\n",
        "  # Relu\n",
        "  A3=tf.nn.relu(Z2)\n",
        "\n",
        "  # Max Pooling with stride=4x4,ksize=4x4 and padding=same\n",
        "  P3=tf.nn.max_pool(A3,ksize=[1,2,2,1],strides=[1,2,2,1],padding='VALID')\n",
        "\n",
        "  # Con2d stride=1x1 ,padding=same\n",
        "  Z4=tf.nn.conv2d(P3,W4,strides=[1,1,1,1],padding='VALID')\n",
        "\n",
        "  # Relu\n",
        "  A4=tf.nn.relu(Z4)\n",
        "\n",
        "  # Max Pooling with stride=4x4,ksize=4x4 and padding=same\n",
        "  P4=tf.nn.max_pool(A4,ksize=[1,2,2,1],strides=[1,2,2,1],padding='VALID')\n",
        "\n",
        "\n",
        "\n",
        "  # Flatten \n",
        "  F=tf.contrib.layers.flatten(P4)\n",
        "  \n",
        " \n",
        "\n",
        "\n",
        "  # Fully Connected\n",
        "  Z3=tf.contrib.layers.fully_connected(F,num_outputs=10,activation_fn=None)\n",
        "  \n",
        "  return Z3\n",
        "\n"
      ],
      "execution_count": 29,
      "outputs": []
    },
    {
      "cell_type": "markdown",
      "metadata": {
        "colab_type": "text",
        "id": "k04ffn_8XsvK"
      },
      "source": [
        " **Compute cost**"
      ]
    },
    {
      "cell_type": "markdown",
      "metadata": {
        "colab_type": "text",
        "id": "fMJ2MSMBXy4b"
      },
      "source": [
        "Implement the compute cost function below. Remember that the cost function helps the neural network see how much the model's predictions differ from the correct labels. By adjusting the weights of the network to reduce the cost, the neural network can improve its predictions."
      ]
    },
    {
      "cell_type": "code",
      "metadata": {
        "colab_type": "code",
        "id": "RAR-6BYpOa9F",
        "colab": {}
      },
      "source": [
        "\"\"\"\n",
        "    Computes the cost\n",
        "    \n",
        "    Arguments:\n",
        "    Z3 -- output of forward propagation (output of the last LINEAR unit), of shape (number of examples, 6)\n",
        "    Y -- \"true\" labels vector placeholder, same shape as Z3\n",
        "    \n",
        "    Returns:\n",
        "    cost - Tensor of the cost function\n",
        "\"\"\"\n",
        "\n",
        "def compute_cost(Z3,Y):\n",
        "  cost=tf.reduce_mean(tf.nn.softmax_cross_entropy_with_logits(logits=Z3,labels=Y))\n",
        "  return cost\n"
      ],
      "execution_count": 30,
      "outputs": []
    },
    {
      "cell_type": "markdown",
      "metadata": {
        "colab_type": "text",
        "id": "UAcrl6dYYydE"
      },
      "source": [
        "Model\n",
        "\n"
      ]
    },
    {
      "cell_type": "markdown",
      "metadata": {
        "colab_type": "text",
        "id": "zOy8Ox8jY2RT"
      },
      "source": [
        "Finally you will merge the helper functions you implemented above to build a model. You will train it on the given dataset. \n",
        "\n",
        "The model below should:\n",
        "\n",
        "    * create placeholders\n",
        "    * initialize parameters\n",
        "    * forward propagate\n",
        "    * compute the cost\n",
        "    * create an optimizer\n",
        "\n",
        "\n",
        "\n"
      ]
    },
    {
      "cell_type": "code",
      "metadata": {
        "colab_type": "code",
        "id": "qERscFBTYyHj",
        "colab": {}
      },
      "source": [
        "\"\"\"\n",
        "    Implements a three-layer ConvNet in Tensorflow:\n",
        "    CONV2D -> RELU -> MAXPOOL -> CONV2D -> RELU -> MAXPOOL -> FLATTEN -> FULLYCONNECTED\n",
        "    \n",
        "    Arguments:\n",
        "    X_train -- training set, of shape (None, 64, 64, 3)\n",
        "    Y_train -- test set, of shape (None, n_y = 10)\n",
        "    X_test -- training set, of shape (None, 64, 64, 3)\n",
        "    Y_test -- test set, of shape (None, n_y = 10)\n",
        "    learning_rate -- learning rate of the optimization\n",
        "    num_epochs -- number of epochs of the optimization loop\n",
        "    minibatch_size -- size of a minibatch\n",
        "    print_cost -- True to print the cost every 100 epochs\n",
        "    \n",
        "    Returns:\n",
        "    train_accuracy -- real number, accuracy on the train set (X_train)\n",
        "    test_accuracy -- real number, testing accuracy on the test set (X_test)\n",
        "    parameters -- parameters learnt by the model. They can then be used to predict.\n",
        "\"\"\"\n",
        "    \n",
        "\n",
        "\n",
        "\n",
        "\n",
        "def model(X_train, Y_train, X_test, Y_test, learning_rate = 0.0003,\n",
        "          num_epochs = 500, minibatch_size = 64, print_cost = True):\n",
        "  \n",
        "    \n",
        "    ops.reset_default_graph()                         # to be able to rerun the model without overwriting tf variables\n",
        "    tf.set_random_seed(1)                             # to keep results consistent (tensorflow seed)\n",
        "    seed = 3                                          # to keep results consistent (numpy seed)\n",
        "    (m, n_H0, n_W0, n_C0) = X_train.shape             \n",
        "    n_y = Y_train.shape[1]                            \n",
        "    costs = []                                        # To keep track of the cost\n",
        "    \n",
        "    # Create Placeholders of the correct shape\n",
        "    ### START CODE HERE ### (1 line)\n",
        "    X, Y = create_placeholder(n_H0, n_W0, n_C0, n_y)\n",
        "    ### END CODE HERE ###\n",
        "\n",
        "    # Initialize parameters\n",
        "    ### START CODE HERE ### (1 line)\n",
        "    parameters = initialize_parameters()\n",
        "    ### END CODE HERE ###\n",
        "    \n",
        "    # Forward propagation: Build the forward propagation in the tensorflow graph\n",
        "    ### START CODE HERE ### (1 line)\n",
        "    Z3 = forward_propagation(X, parameters)\n",
        "    ### END CODE HERE ###\n",
        "    \n",
        "    # Cost function: Add cost function to tensorflow graph\n",
        "    ### START CODE HERE ### (1 line)\n",
        "    cost = compute_cost(Z3, Y)\n",
        "    ### END CODE HERE ###\n",
        "    \n",
        "    # Backpropagation: Define the tensorflow optimizer. Use an AdamOptimizer that minimizes the cost.\n",
        "    ### START CODE HERE ### (1 line)\n",
        "    optimizer = tf.train.AdamOptimizer(learning_rate=learning_rate).minimize(loss=cost)\n",
        "    ### END CODE HERE ###\n",
        "    \n",
        "    # Initialize all the variables globally\n",
        "    init = tf.global_variables_initializer()\n",
        "     \n",
        "    # Start the session to compute the tensorflow graph\n",
        "    with tf.Session() as sess:\n",
        "        \n",
        "        # Run the initialization\n",
        "        sess.run(init)\n",
        "        \n",
        "        # Do the training loop\n",
        "        for epoch in range(num_epochs):\n",
        "\n",
        "            minibatch_cost = 0.\n",
        "            num_minibatches = int(m / minibatch_size) # number of minibatches of size minibatch_size in the train set\n",
        "            seed = seed + 1\n",
        "            minibatches = random_mini_batches(X_train, Y_train, minibatch_size, seed)\n",
        "\n",
        "            for minibatch in minibatches:\n",
        "\n",
        "                # Select a minibatch\n",
        "                (minibatch_X, minibatch_Y) = minibatch\n",
        "                \"\"\"\n",
        "                # IMPORTANT: The line that runs the graph on a minibatch.\n",
        "                # Run the session to execute the optimizer and the cost.\n",
        "                # The feedict should contain a minibatch for (X,Y).\n",
        "                \"\"\"\n",
        "                ### START CODE HERE ### (1 line)\n",
        "                _, temp_cost = sess.run(\n",
        "                                            fetches=[optimizer, cost],\n",
        "                                            feed_dict={\n",
        "                                                X:minibatch_X,\n",
        "                                                Y:minibatch_Y\n",
        "                                            }\n",
        "                \n",
        "                )\n",
        "                ### END CODE HERE ###\n",
        "                \n",
        "                minibatch_cost += temp_cost / num_minibatches\n",
        "                \n",
        "\n",
        "            # Print the cost every epoch\n",
        "            if print_cost == True and epoch % 5 == 0:\n",
        "                print (\"Cost after epoch %i: %f\" % (epoch, minibatch_cost))\n",
        "            if print_cost == True and epoch % 1 == 0:\n",
        "                costs.append(minibatch_cost)\n",
        "        \n",
        "        \n",
        "        # plot the cost\n",
        "        plt.plot(np.squeeze(costs))\n",
        "        plt.ylabel('cost')\n",
        "        plt.xlabel('iterations (per tens)')\n",
        "        plt.title(\"Learning rate =\" + str(learning_rate))\n",
        "        plt.show()\n",
        "\n",
        "        # Calculate the correct predictions\n",
        "        predict_op = tf.argmax(Z3, 1)\n",
        "        correct_prediction = tf.equal(predict_op, tf.argmax(Y, 1))\n",
        "        \n",
        "        # Calculate accuracy on the test set\n",
        "        accuracy = tf.reduce_mean(tf.cast(correct_prediction, \"float\"))\n",
        "        print(accuracy)\n",
        "        train_accuracy = accuracy.eval({X: X_train, Y: Y_train})\n",
        "        test_accuracy = accuracy.eval({X: X_test, Y: Y_test})\n",
        "        print(\"Train Accuracy:\", train_accuracy)\n",
        "        print(\"Test Accuracy:\", test_accuracy)\n",
        "                \n",
        "        return train_accuracy, test_accuracy, parameters\n",
        "\n",
        "\n",
        "\n",
        "\n",
        "\n",
        "\n",
        "\n",
        "\n"
      ],
      "execution_count": 31,
      "outputs": []
    },
    {
      "cell_type": "code",
      "metadata": {
        "colab_type": "code",
        "id": "FhnzFSKbYxPC",
        "colab": {
          "base_uri": "https://localhost:8080/",
          "height": 1000
        },
        "outputId": "bebc8466-5b58-488c-c2c0-89fbf6c458f5"
      },
      "source": [
        "_, _, parameters = model(X_train, Y_train, X_test, Y_test)"
      ],
      "execution_count": 32,
      "outputs": [
        {
          "output_type": "stream",
          "text": [
            "WARNING:tensorflow:\n",
            "The TensorFlow contrib module will not be included in TensorFlow 2.0.\n",
            "For more information, please see:\n",
            "  * https://github.com/tensorflow/community/blob/master/rfcs/20180907-contrib-sunset.md\n",
            "  * https://github.com/tensorflow/addons\n",
            "  * https://github.com/tensorflow/io (for I/O related ops)\n",
            "If you depend on functionality not listed there, please file an issue.\n",
            "\n",
            "WARNING:tensorflow:From /usr/local/lib/python3.6/dist-packages/tensorflow_core/contrib/layers/python/layers/layers.py:1634: flatten (from tensorflow.python.layers.core) is deprecated and will be removed in a future version.\n",
            "Instructions for updating:\n",
            "Use keras.layers.flatten instead.\n",
            "WARNING:tensorflow:From /usr/local/lib/python3.6/dist-packages/tensorflow_core/python/layers/core.py:332: Layer.apply (from tensorflow.python.keras.engine.base_layer) is deprecated and will be removed in a future version.\n",
            "Instructions for updating:\n",
            "Please use `layer.__call__` method instead.\n",
            "WARNING:tensorflow:From <ipython-input-30-f539a6ddcad3>:13: softmax_cross_entropy_with_logits (from tensorflow.python.ops.nn_ops) is deprecated and will be removed in a future version.\n",
            "Instructions for updating:\n",
            "\n",
            "Future major versions of TensorFlow will allow gradients to flow\n",
            "into the labels input on backprop by default.\n",
            "\n",
            "See `tf.nn.softmax_cross_entropy_with_logits_v2`.\n",
            "\n",
            "Cost after epoch 0: 1.464275\n",
            "Cost after epoch 5: 0.465859\n",
            "Cost after epoch 10: 0.373913\n",
            "Cost after epoch 15: 0.325906\n",
            "Cost after epoch 20: 0.292515\n",
            "Cost after epoch 25: 0.269327\n",
            "Cost after epoch 30: 0.246597\n",
            "Cost after epoch 35: 0.228955\n",
            "Cost after epoch 40: 0.212023\n",
            "Cost after epoch 45: 0.199561\n",
            "Cost after epoch 50: 0.186488\n",
            "Cost after epoch 55: 0.177620\n",
            "Cost after epoch 60: 0.167041\n",
            "Cost after epoch 65: 0.158346\n",
            "Cost after epoch 70: 0.150952\n",
            "Cost after epoch 75: 0.143781\n",
            "Cost after epoch 80: 0.135836\n",
            "Cost after epoch 85: 0.129534\n",
            "Cost after epoch 90: 0.121647\n",
            "Cost after epoch 95: 0.117210\n",
            "Cost after epoch 100: 0.111497\n",
            "Cost after epoch 105: 0.105659\n",
            "Cost after epoch 110: 0.101490\n",
            "Cost after epoch 115: 0.094372\n",
            "Cost after epoch 120: 0.090889\n",
            "Cost after epoch 125: 0.087226\n",
            "Cost after epoch 130: 0.084251\n",
            "Cost after epoch 135: 0.080922\n",
            "Cost after epoch 140: 0.076652\n",
            "Cost after epoch 145: 0.074576\n",
            "Cost after epoch 150: 0.072728\n",
            "Cost after epoch 155: 0.069281\n",
            "Cost after epoch 160: 0.065279\n",
            "Cost after epoch 165: 0.062521\n",
            "Cost after epoch 170: 0.062699\n",
            "Cost after epoch 175: 0.057132\n",
            "Cost after epoch 180: 0.055343\n",
            "Cost after epoch 185: 0.052482\n",
            "Cost after epoch 190: 0.050806\n",
            "Cost after epoch 195: 0.054212\n",
            "Cost after epoch 200: 0.050243\n",
            "Cost after epoch 205: 0.048272\n",
            "Cost after epoch 210: 0.047228\n",
            "Cost after epoch 215: 0.044984\n",
            "Cost after epoch 220: 0.045059\n",
            "Cost after epoch 225: 0.041949\n",
            "Cost after epoch 230: 0.045410\n",
            "Cost after epoch 235: 0.039815\n",
            "Cost after epoch 240: 0.038401\n",
            "Cost after epoch 245: 0.040102\n",
            "Cost after epoch 250: 0.039100\n",
            "Cost after epoch 255: 0.038984\n",
            "Cost after epoch 260: 0.033581\n",
            "Cost after epoch 265: 0.035812\n",
            "Cost after epoch 270: 0.036881\n",
            "Cost after epoch 275: 0.030495\n",
            "Cost after epoch 280: 0.029492\n",
            "Cost after epoch 285: 0.034290\n",
            "Cost after epoch 290: 0.030998\n",
            "Cost after epoch 295: 0.029100\n",
            "Cost after epoch 300: 0.027363\n",
            "Cost after epoch 305: 0.027502\n",
            "Cost after epoch 310: 0.028857\n",
            "Cost after epoch 315: 0.029716\n",
            "Cost after epoch 320: 0.023383\n",
            "Cost after epoch 325: 0.029550\n",
            "Cost after epoch 330: 0.026226\n",
            "Cost after epoch 335: 0.027781\n",
            "Cost after epoch 340: 0.021443\n",
            "Cost after epoch 345: 0.031974\n",
            "Cost after epoch 350: 0.021086\n",
            "Cost after epoch 355: 0.026799\n",
            "Cost after epoch 360: 0.022242\n",
            "Cost after epoch 365: 0.023402\n",
            "Cost after epoch 370: 0.025277\n",
            "Cost after epoch 375: 0.020574\n",
            "Cost after epoch 380: 0.021118\n",
            "Cost after epoch 385: 0.022005\n",
            "Cost after epoch 390: 0.018480\n",
            "Cost after epoch 395: 0.035672\n",
            "Cost after epoch 400: 0.025763\n",
            "Cost after epoch 405: 0.020750\n",
            "Cost after epoch 410: 0.026453\n",
            "Cost after epoch 415: 0.024810\n",
            "Cost after epoch 420: 0.025420\n",
            "Cost after epoch 425: 0.019951\n",
            "Cost after epoch 430: 0.027192\n",
            "Cost after epoch 435: 0.020265\n",
            "Cost after epoch 440: 0.017583\n",
            "Cost after epoch 445: 0.021775\n",
            "Cost after epoch 450: 0.021895\n",
            "Cost after epoch 455: 0.023597\n",
            "Cost after epoch 460: 0.017314\n",
            "Cost after epoch 465: 0.013723\n",
            "Cost after epoch 470: 0.021972\n",
            "Cost after epoch 475: 0.025365\n",
            "Cost after epoch 480: 0.024390\n",
            "Cost after epoch 485: 0.016293\n",
            "Cost after epoch 490: 0.018747\n",
            "Cost after epoch 495: 0.022414\n"
          ],
          "name": "stdout"
        },
        {
          "output_type": "display_data",
          "data": {
            "image/png": "[encoded data removed]",
            "text/plain": [
              "<Figure size 432x288 with 1 Axes>"
            ]
          },
          "metadata": {
            "tags": [],
            "needs_background": "light"
          }
        },
        {
          "output_type": "stream",
          "text": [
            "Tensor(\"Mean_1:0\", shape=(), dtype=float32)\n",
            "Train Accuracy: 0.99197346\n",
            "Test Accuracy: 0.86067146\n"
          ],
          "name": "stdout"
        }
      ]
    },
    {
      "cell_type": "code",
      "metadata": {
        "colab_type": "code",
        "id": "OOxSoaAPpBT7",
        "colab": {}
      },
      "source": [
        ""
      ],
      "execution_count": 32,
      "outputs": []
    }
  ]
}