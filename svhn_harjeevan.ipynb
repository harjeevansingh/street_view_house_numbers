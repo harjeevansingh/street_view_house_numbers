{
  "nbformat": 4,
  "nbformat_minor": 0,
  "metadata": {
    "kernelspec": {
      "display_name": "Python 3",
      "language": "python",
      "name": "python3"
    },
    "language_info": {
      "codemirror_mode": {
        "name": "ipython",
        "version": 3
      },
      "file_extension": ".py",
      "mimetype": "text/x-python",
      "name": "python",
      "nbconvert_exporter": "python",
      "pygments_lexer": "ipython3",
      "version": "3.7.1"
    },
    "colab": {
      "name": "svhn_harjeevan.ipynb",
      "provenance": [],
      "toc_visible": true,
      "include_colab_link": true
    }
  },
  "cells": [
    {
      "cell_type": "markdown",
      "metadata": {
        "id": "view-in-github",
        "colab_type": "text"
      },
      "source": [
        "<a href=\"https://colab.research.google.com/github/harjeevansingh/street_view_house_numbers/blob/master/svhn_harjeevan.ipynb\" target=\"_parent\"><img src=\"https://colab.research.google.com/assets/colab-badge.svg\" alt=\"Open In Colab\"/></a>"
      ]
    },
    {
      "cell_type": "code",
      "metadata": {
        "id": "6MQst9vh5C0m",
        "colab_type": "code",
        "colab": {
          "base_uri": "https://localhost:8080/",
          "height": 128
        },
        "outputId": "cf9764d9-221a-4f6b-a3b3-4eb793f61040"
      },
      "source": [
        "from google.colab import drive\n",
        "drive.mount('/content/drive')"
      ],
      "execution_count": null,
      "outputs": [
        {
          "output_type": "stream",
          "text": [
            "Go to this URL in a browser: https://accounts.google.com/o/oauth2/auth?client_id=947318989803-6bn6qk8qdgf4n4g3pfee6491hc0brc4i.apps.googleusercontent.com&redirect_uri=urn%3aietf%3awg%3aoauth%3a2.0%3aoob&response_type=code&scope=email%20https%3a%2f%2fwww.googleapis.com%2fauth%2fdocs.test%20https%3a%2f%2fwww.googleapis.com%2fauth%2fdrive%20https%3a%2f%2fwww.googleapis.com%2fauth%2fdrive.photos.readonly%20https%3a%2f%2fwww.googleapis.com%2fauth%2fpeopleapi.readonly\n",
            "\n",
            "Enter your authorization code:\n",
            "··········\n",
            "Mounted at /content/drive\n"
          ],
          "name": "stdout"
        }
      ]
    },
    {
      "cell_type": "code",
      "metadata": {
        "id": "2clN9Xjq7VQQ",
        "colab_type": "code",
        "colab": {
          "base_uri": "https://localhost:8080/",
          "height": 53
        },
        "outputId": "6a85d544-330c-41d8-9650-b64fd9b42cc3"
      },
      "source": [
        "!cp drive/'My Drive'/productivity/datasets/svhn/'32_32_images'/'train_32x32.mat' .\n",
        "!cp drive/'My Drive'/productivity/datasets/svhn/'32_32_images'/'test_32x32.mat' ."
      ],
      "execution_count": null,
      "outputs": [
        {
          "output_type": "stream",
          "text": [
            "cp: cannot stat 'drive/My Drive/productivity/datasets/svhn/32_32_images/train_32x32.mat': No such file or directory\n",
            "cp: cannot stat 'drive/My Drive/productivity/datasets/svhn/32_32_images/test_32x32.mat': No such file or directory\n"
          ],
          "name": "stdout"
        }
      ]
    },
    {
      "cell_type": "code",
      "metadata": {
        "id": "F2ICa1faZlKy",
        "colab_type": "code",
        "colab": {}
      },
      "source": [
        "import pandas as pd\n",
        "import numpy as np\n",
        "from matplotlib import pyplot as plt\n",
        "import seaborn as sns\n",
        "import requests\n",
        "from scipy.io import loadmat\n",
        "from io import StringIO\n",
        "import tensorflow as tf\n"
      ],
      "execution_count": null,
      "outputs": []
    },
    {
      "cell_type": "code",
      "metadata": {
        "id": "eFH4l5aVDp2f",
        "colab_type": "code",
        "colab": {}
      },
      "source": [
        "def load_data(path):\n",
        "\n",
        "  data = loadmat(path)\n",
        "  return data['X'], data['y']"
      ],
      "execution_count": null,
      "outputs": []
    },
    {
      "cell_type": "code",
      "metadata": {
        "id": "nzPlBwS1AA47",
        "colab_type": "code",
        "colab": {
          "base_uri": "https://localhost:8080/",
          "height": 53
        },
        "outputId": "2b496839-df8b-4d13-fff6-e37826800a03"
      },
      "source": [
        "X_train_orig, y_train_orig = load_data('/content/drive/My Drive/productivity/datasets/svhn/32_32_ images/train_32x32.mat')\n",
        "X_test_orig, y_test_orig = load_data('/content/drive/My Drive/productivity/datasets/svhn/32_32_ images/test_32x32.mat')\n",
        "\n",
        "\n",
        "print(\"Training Set: \", X_train_orig.shape, y_train_orig.shape) \n",
        "print(\"Testing Set: \", X_test_orig.shape, y_test_orig.shape) "
      ],
      "execution_count": null,
      "outputs": [
        {
          "output_type": "stream",
          "text": [
            "Training Set:  (32, 32, 3, 73257) (73257, 1)\n",
            "Testing Set:  (32, 32, 3, 26032) (26032, 1)\n"
          ],
          "name": "stdout"
        }
      ]
    },
    {
      "cell_type": "code",
      "metadata": {
        "id": "Cz8FkGeaDRdH",
        "colab_type": "code",
        "colab": {
          "base_uri": "https://localhost:8080/",
          "height": 53
        },
        "outputId": "4b3372bb-03d4-4559-ad14-f134e3d0072b"
      },
      "source": [
        "X_train_T, y_train_T = X_train_orig.transpose((3,0,1,2)), y_train_orig[:,0]\n",
        "X_test_T, y_test_T = X_test_orig.transpose((3,0,1,2)), y_test_orig[:,0]\n",
        "\n",
        "print(\"Training Set: \", X_train_T.shape, y_train_T.shape) \n",
        "print(\"Testing Set: \", X_test_T.shape, y_test_org.shape) "
      ],
      "execution_count": null,
      "outputs": [
        {
          "output_type": "stream",
          "text": [
            "Training Set:  (73257, 32, 32, 3) (73257,)\n",
            "Testing Set:  (26032, 32, 32, 3) (26032, 1)\n"
          ],
          "name": "stdout"
        }
      ]
    },
    {
      "cell_type": "code",
      "metadata": {
        "id": "ogBvUGX2AhuN",
        "colab_type": "code",
        "colab": {
          "base_uri": "https://localhost:8080/",
          "height": 284
        },
        "outputId": "ca109761-368a-4ef2-a123-fbacd612f192"
      },
      "source": [
        "index = 12\n",
        "plt.imshow(X_train_T[index])"
      ],
      "execution_count": null,
      "outputs": [
        {
          "output_type": "execute_result",
          "data": {
            "text/plain": [
              "<matplotlib.image.AxesImage at 0x7fef0c768390>"
            ]
          },
          "metadata": {
            "tags": []
          },
          "execution_count": 35
        },
        {
          "output_type": "display_data",
          "data": {
            "image/png": "[encoded data removed]",
            "text/plain": [
              "<Figure size 432x288 with 1 Axes>"
            ]
          },
          "metadata": {
            "tags": [],
            "needs_background": "light"
          }
        }
      ]
    },
    {
      "cell_type": "code",
      "metadata": {
        "id": "QQC3fm-IDKi0",
        "colab_type": "code",
        "colab": {}
      },
      "source": [
        ""
      ],
      "execution_count": null,
      "outputs": []
    }
  ]
}